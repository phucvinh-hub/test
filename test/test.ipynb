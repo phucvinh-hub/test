{
  "nbformat": 4,
  "nbformat_minor": 0,
  "metadata": {
    "colab": {
      "provenance": []
    },
    "kernelspec": {
      "name": "python3",
      "display_name": "Python 3"
    },
    "language_info": {
      "name": "python"
    }
  },
  "cells": [
    {
      "cell_type": "code",
      "source": [
        "!pip install -q git+https://github.com/ultralytics/ultralytics.git\n",
        "!pip install paho-mqtt==1.6.1\n"
      ],
      "metadata": {
        "colab": {
          "base_uri": "https://localhost:8080/"
        },
        "id": "XYH70ycZkxQP",
        "outputId": "1217fd9e-1131-4ae6-ddf1-02f012665617"
      },
      "execution_count": 3,
      "outputs": [
        {
          "output_type": "stream",
          "name": "stdout",
          "text": [
            "  Installing build dependencies ... \u001b[?25l\u001b[?25hdone\n",
            "  Getting requirements to build wheel ... \u001b[?25l\u001b[?25hdone\n",
            "  Preparing metadata (pyproject.toml) ... \u001b[?25l\u001b[?25hdone\n",
            "  Building wheel for ultralytics (pyproject.toml) ... \u001b[?25l\u001b[?25hdone\n"
          ]
        }
      ]
    },
    {
      "cell_type": "code",
      "execution_count": 18,
      "metadata": {
        "colab": {
          "base_uri": "https://localhost:8080/"
        },
        "id": "oM6q3VpXkSIC",
        "outputId": "4caedb3c-9752-46a6-b3cc-8a50abedade1"
      },
      "outputs": [
        {
          "output_type": "stream",
          "name": "stdout",
          "text": [
            "\n",
            "image 1/1 /content/drive/MyDrive/21004173/000000_jpg.rf.9c2d93c681b7d38d50bf4f096a6baf03.jpg: 640x640 1 Speed Limit 30, 326.1ms\n",
            "Speed: 8.1ms preprocess, 326.1ms inference, 0.5ms postprocess per image at shape (1, 3, 640, 640)\n",
            "Results saved to \u001b[1mruns/detect/predict14\u001b[0m\n",
            "Class detected: Speed Limit 30\n",
            "Connecting to broker...\n",
            "Connected with result code 0\n"
          ]
        },
        {
          "output_type": "stream",
          "name": "stderr",
          "text": [
            "<ipython-input-18-bc7616fc0305>:64: DeprecationWarning: Conversion of an array with ndim > 0 to a scalar is deprecated, and will error in future. Ensure you extract a single element from your array before performing this operation. (Deprecated NumPy 1.25.)\n",
            "  class_id = int(box.cls.cpu().numpy())\n"
          ]
        },
        {
          "output_type": "stream",
          "name": "stdout",
          "text": [
            "Message Published with mid: 1\n",
            "Sent message: Speed Limit 30 to topic: 21004173/topic\n"
          ]
        }
      ],
      "source": [
        "from ultralytics import YOLO\n",
        "import paho.mqtt.client as mqtt\n",
        "import time\n",
        "\n",
        "BROKER = \"broker.emqx.io\"\n",
        "PORT = 1883\n",
        "TOPIC_PUBLISH = \"21004173/topic\"\n",
        "\n",
        "def on_connect(client, userdata, flags, rc):\n",
        "    print(f\"Connected with result code {rc}\")\n",
        "\n",
        "def on_publish(client, userdata, mid):\n",
        "    print(f\"Message Published with mid: {mid}\")\n",
        "\n",
        "def publish_message(predicted_label):\n",
        "    try:\n",
        "        client = mqtt.Client()\n",
        "\n",
        "        client.on_connect = on_connect\n",
        "        client.on_publish = on_publish\n",
        "\n",
        "        print(\"Connecting to broker...\")\n",
        "        client.connect(BROKER, PORT, 60)\n",
        "\n",
        "        client.loop_start()\n",
        "\n",
        "        time.sleep(1)\n",
        "\n",
        "        result = client.publish(TOPIC_PUBLISH, predicted_label, qos=1)\n",
        "        result.wait_for_publish()\n",
        "        print(f\"Sent message: {predicted_label} to topic: {TOPIC_PUBLISH}\")\n",
        "\n",
        "        time.sleep(1)\n",
        "        client.loop_stop()\n",
        "        client.disconnect()\n",
        "\n",
        "    except Exception as e:\n",
        "        print(f\"Error in publishing message: {e}\")\n",
        "\n",
        "model = YOLO(\"/content/drive/MyDrive/21004173/21004170 (1).pt\")\n",
        "\n",
        "image_path = \"/content/drive/MyDrive/21004173/000000_jpg.rf.9c2d93c681b7d38d50bf4f096a6baf03.jpg\"\n",
        "\n",
        "try:\n",
        "    results = model.predict(source=image_path, conf=0.25, save=True)\n",
        "\n",
        "    for result in results:\n",
        "        for box in result.boxes:\n",
        "            class_id = int(box.cls.cpu().numpy())\n",
        "            class_name = model.names[class_id]\n",
        "            print(f\"Class detected: {class_name}\")\n",
        "            publish_message(class_name)\n",
        "            time.sleep(1)\n",
        "\n",
        "except Exception as e:\n",
        "    print(f\"Error in detection: {e}\")"
      ]
    }
  ]
}