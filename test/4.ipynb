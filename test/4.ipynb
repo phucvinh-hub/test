{
  "cells": [
    {
      "cell_type": "code",
      "execution_count": null,
      "metadata": {
        "colab": {
          "base_uri": "https://localhost:8080/"
        },
        "id": "vgojMfXm0kk4",
        "outputId": "1b97c51e-eae8-43a0-c9a3-b0e4f0e3a32f"
      },
      "outputs": [],
      "source": [
        "!git clone https://github.com/THU-MIG/yolov10.git"
      ]
    },
    {
      "cell_type": "code",
      "execution_count": null,
      "metadata": {
        "colab": {
          "base_uri": "https://localhost:8080/"
        },
        "id": "deEf7BZ72xtl",
        "outputId": "1d7a716b-14d1-4b8b-c5d5-4b14b2234009"
      },
      "outputs": [],
      "source": [
        "!mkdir -p /content/yolov10/ultralytics/weights\n",
        "!wget -P /content/yolov10/ultralytics/weights -q https://github.com/jameslahm/yolov10/releases/download/v1.0/yolov10n.pt\n",
        "!ls -lh /content/yolov10/ultralytics/weights"
      ]
    },
    {
      "cell_type": "code",
      "execution_count": null,
      "metadata": {
        "colab": {
          "base_uri": "https://localhost:8080/"
        },
        "id": "OMWhOBi86Xy8",
        "outputId": "c64fac2f-ff11-416f-fb27-101510ec3f46"
      },
      "outputs": [],
      "source": [
        "# Cài đặt YOLOv10 từ GitHub\n",
        "!pip install -q git+https://github.com/ultralytics/ultralytics.git\n"
      ]
    },
    {
      "cell_type": "code",
      "execution_count": null,
      "metadata": {
        "id": "xiOPENg-3kAN"
      },
      "outputs": [],
      "source": [
        "#!yolo task=detect mode=train epochs=100 batch=32 plots=True model=/content/yolov10/ultralytics/weights/yolov10n.pt data=/content/drive/MyDrive/dataonknn/TrafficSignDataset/TrafficSignDataset/Custom_data.yaml"
      ]
    },
    {
      "cell_type": "code",
      "execution_count": null,
      "metadata": {
        "colab": {
          "base_uri": "https://localhost:8080/"
        },
        "collapsed": true,
        "id": "jwqcIdjy7E0M",
        "outputId": "e034516b-ae35-445c-a7de-e57a388d113b"
      },
      "outputs": [],
      "source": [
        "!unzip /content/drive/MyDrive/dataonknn/TrafficSignDataset.zip"
      ]
    },
    {
      "cell_type": "code",
      "execution_count": null,
      "metadata": {
        "colab": {
          "base_uri": "https://localhost:8080/"
        },
        "id": "4fPclnzM5rk3",
        "outputId": "3350a449-28e9-40a6-fbbc-029b7ad021cd"
      },
      "outputs": [],
      "source": [
        "!yolo task=detect mode=train epochs=100 batch=32 plots=True \\\n",
        "model=/content/yolov10/ultralytics/weights/yolov10n.pt \\\n",
        "data=/content/TrafficSignDataset/Custom_data.yaml\n"
      ]
    },
    {
      "cell_type": "code",
      "execution_count": null,
      "metadata": {
        "colab": {
          "base_uri": "https://localhost:8080/"
        },
        "id": "0rDtgjQgH7f3",
        "outputId": "937d2a8e-0ae7-48c8-eb95-3227bd1f9e1f"
      },
      "outputs": [],
      "source": [
        "!yolo task=detect mode=predict conf=0.25 save=True model=/content/runs/detect/train2/weights/best.pt source=/content/TrafficSignDataset/TrafficSign/test/images/000015_jpg.rf.b6cf94e07797cace72810114cfe7029c.jpg"
      ]
    },
    {
      "cell_type": "markdown",
      "metadata": {},
      "source": [
        "<!-- Module IOT -->"
      ]
    },
    {
      "cell_type": "code",
      "execution_count": null,
      "metadata": {
        "colab": {
          "base_uri": "https://localhost:8080/"
        },
        "id": "nFzg95WPJIMF",
        "outputId": "1c751177-d2a8-46fd-86f8-240e65626b89"
      },
      "outputs": [],
      "source": [
        "from ultralytics import YOLO\n",
        "!pip install paho-mqtt\n",
        "import paho.mqtt.client as mqtt"
      ]
    },
    {
      "cell_type": "code",
      "execution_count": null,
      "metadata": {
        "id": "Zr1-XOLyQ7R1"
      },
      "outputs": [],
      "source": [
        "# BROKER = \"test.mosquitto.org\"\n",
        "BROKER = \"broker.hivemq.com\"\n",
        "PORT = 1883\n",
        "TOPIC_PUBLISH = \"21004171/output\"\n",
        "\n",
        "# Hàm gửi tin nhắn qua MQTT\n",
        "def publish_message(predicted_label):\n",
        "    # Thiết lập client MQTT\n",
        "    client = mqtt.Client()\n",
        "    client.connect(BROKER, PORT, 60)\n",
        "\n",
        "    # Gửi nội dung predicted_label lên topic\n",
        "    client.publish(TOPIC_PUBLISH, predicted_label)\n",
        "    print(f\"Sent message: {predicted_label} to topic: {TOPIC_PUBLISH}\")\n",
        "\n",
        "    # Đóng kết nối\n",
        "    client.disconnect()"
      ]
    },
    {
      "cell_type": "code",
      "execution_count": null,
      "metadata": {
        "colab": {
          "base_uri": "https://localhost:8080/"
        },
        "id": "bpV3SQJ0JA2C",
        "outputId": "896092e9-e6f4-4347-bff1-5b3227554016"
      },
      "outputs": [],
      "source": [
        "# BROKER = \"test.mosquitto.org\"\n",
        "BROKER = \"broker.hivemq.com\"\n",
        "PORT = 1883\n",
        "TOPIC_PUBLISH = \"21004171/output\"\n",
        "\n",
        "# Hàm gửi tin nhắn qua MQTT\n",
        "def publish_message(predicted_label):\n",
        "    # Thiết lập client MQTT\n",
        "    client = mqtt.Client()\n",
        "    client.connect(BROKER, PORT, 60)\n",
        "\n",
        "    # Gửi nội dung predicted_label lên topic\n",
        "    client.publish(TOPIC_PUBLISH, predicted_label)\n",
        "    print(f\"Sent message: {predicted_label} to topic: {TOPIC_PUBLISH}\")\n",
        "\n",
        "    # Đóng kết nối\n",
        "    client.disconnect()\n",
        "\n",
        "# Tải model\n",
        "model = YOLO(\"/content/drive/MyDrive/dataonknn/train2/weights/best.pt\")\n",
        "\n",
        "# Đường dẫn ảnh cần dự đoán\n",
        "image_path = \"/content/TrafficSignDataset/TrafficSign/test/images/000511_jpg.rf.4db3876820ff484b0f5924c8f9d40a86.jpg\"\n",
        "\n",
        "# Thực hiện dự đoán\n",
        "results = model.predict(source=image_path, conf=0.25, save=True)\n",
        "\n",
        "# Lấy thông tin class từ kết quả\n",
        "for result in results:\n",
        "    for box in result.boxes:\n",
        "        # Lấy ID class và tên class\n",
        "        class_id = int(box.cls.cpu().numpy())\n",
        "        class_name = model.names[class_id]\n",
        "        publish_message(class_name)\n",
        "        print(f\"Class detected: {class_name}\")\n"
      ]
    },
    {
      "cell_type": "code",
      "execution_count": null,
      "metadata": {
        "id": "8kgZnZWV4ow7"
      },
      "outputs": [],
      "source": [
        "!yolo task=detect mode=predict conf=0.25 save=True model=runs/detect/train/weights/best.pt source=b.mp4"
      ]
    },
    {
      "cell_type": "code",
      "execution_count": null,
      "metadata": {
        "id": "szbbuQ0ENHYL"
      },
      "outputs": [],
      "source": [
        "mv /content/runs/detect/train2 /content/drive/MyDrive/dataonknn"
      ]
    },
    {
      "cell_type": "code",
      "execution_count": null,
      "metadata": {
        "id": "8TyA6V0IV6hO"
      },
      "outputs": [],
      "source": [
        "from tensorflow.keras.models import load_model\n"
      ]
    },
    {
      "cell_type": "code",
      "execution_count": null,
      "metadata": {
        "colab": {
          "base_uri": "https://localhost:8080/",
          "height": 108
        },
        "id": "PYVSJrICVvCB",
        "outputId": "ab3dd370-cfa5-4955-ace9-9e6781e370bb"
      },
      "outputs": [],
      "source": [
        "import paho.mqtt.client as mqtt\n",
        "\n",
        "# Hàm gửi tin nhắn qua MQTT\n",
        "def publish_message(predicted_label):\n",
        "    # Thiết lập client MQTT\n",
        "    client = mqtt.Client()\n",
        "    client.connect(BROKER, PORT, 60)\n",
        "\n",
        "    # Gửi nội dung predicted_label lên topic\n",
        "    client.publish(TOPIC_PUBLISH, predicted_label)\n",
        "    print(f\"Sent message: {predicted_label} to topic: {TOPIC_PUBLISH}\")\n",
        "\n",
        "    # Khởi động loop MQTT để tránh chặn\n",
        "    client.loop_start()\n",
        "\n",
        "    # Đóng kết nối\n",
        "    client.disconnect()\n",
        "\n",
        "# --- 3. Dự đoán ảnh mới ---\n",
        "def predict_image(img_path):\n",
        "    # Tiền xử lý ảnh trước khi đưa vào mô hình\n",
        "    predicted_label=\"dfhugs\"\n",
        "    print(f\"Predicted class: {predicted_label}\")\n",
        "\n",
        "    # Gửi predicted_label qua MQTT\n",
        "    publish_message(predicted_label)\n",
        "\n",
        "    return predicted_label\n",
        "\n",
        "# --- 4. Thử dự đoán với ảnh mới ---\n",
        "img_path = \"/content/drive/MyDrive/dataonknn/image/Angelina Jolie_068.jpg\"\n",
        "predict_image(img_path)\n"
      ]
    }
  ],
  "metadata": {
    "accelerator": "GPU",
    "colab": {
      "gpuType": "T4",
      "provenance": []
    },
    "kernelspec": {
      "display_name": "Python 3",
      "name": "python3"
    },
    "language_info": {
      "name": "python"
    }
  },
  "nbformat": 4,
  "nbformat_minor": 0
}
